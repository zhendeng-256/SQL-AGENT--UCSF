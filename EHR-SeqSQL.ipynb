{
 "cells": [
  {
   "cell_type": "code",
   "execution_count": 190,
   "id": "497d3cc2-be22-476f-99b9-e5d4d673a17e",
   "metadata": {},
   "outputs": [
    {
     "name": "stdout",
     "output_type": "stream",
     "text": [
      "8e0c1d6b1457c58bae67816ba74db2c7595c8cdaed2ddffab535c3722f9acd81\n"
     ]
    }
   ],
   "source": [
    "# load API key into .env\n",
    "from dotenv import load_dotenv\n",
    "_ = load_dotenv() \n",
    "#print(LAMINI_API_KEY)"
   ]
  },
  {
   "cell_type": "code",
   "execution_count": 192,
   "id": "e8ba2d3a-c72a-474f-9792-533ebbd9de23",
   "metadata": {},
   "outputs": [],
   "source": [
    "import pandas as pd\n",
    "import json\n",
    "import logging\n",
    "import sqlite3\n",
    "import lamini\n",
    "import pandas as pd\n",
    "#import util\n",
    "#import python_util\n",
    "#from util.get_schema import get_schema\n",
    "#from util.make_llama_3_prompt import make_llama_3_prompt\n",
    "#from util.setup_logging import setup_logging\n",
    "\n",
    "logger = logging.getLogger(__name__)\n",
    "engine = sqlite3.connect(\"./EHR_SEQSQL.db\")\n",
    "#setup_logging()\n",
    "lamini.api_key = LAMINI_API_KEY"
   ]
  },
  {
   "cell_type": "code",
   "execution_count": 194,
   "id": "20069c4a-b0c2-45e5-a5e5-adf3c2b1643d",
   "metadata": {},
   "outputs": [
    {
     "name": "stdout",
     "output_type": "stream",
     "text": [
      "[{'id': '908b5b18d58416e49d3ea2ba', 'seed_question': 'what are the methods of consumption of send 500mg vial?', 'value': {'drug_name': 'send 500mg vial'}, 'question': ['what are the methods of consumption of send 500mg vial?'], 'question_template': ['What is the intake method of send 500mg vial?'], 'sql': [\"select distinct prescriptions.route from prescriptions where prescriptions.drug = 'send 500mg vial'\"], 'seqsql': [\"select distinct prescriptions.route from prescriptions where prescriptions.drug = 'send 500mg vial'\"], 'department': \"['nursing']\", 'importance': 'medium', 'compositional_split': 'train', 'random_split': 'train'}, {'id': '007cc09dea68f1a13eb5eee0', 'seed_question': 'what are the ways to consume caspofungin?', 'value': {'drug_name': 'caspofungin'}, 'question': ['what are the ways to consume caspofungin?'], 'question_template': ['What is the intake method of caspofungin?'], 'sql': [\"select distinct prescriptions.route from prescriptions where prescriptions.drug = 'caspofungin'\"], 'seqsql': [\"select distinct prescriptions.route from prescriptions where prescriptions.drug = 'caspofungin'\"], 'department': \"['nursing']\", 'importance': 'medium', 'compositional_split': 'train', 'random_split': 'train'}, {'id': '29f879651f245c264a40776f', 'seed_question': 'tell me the intake method for syringes?', 'value': {'drug_name': 'syringe'}, 'question': ['tell me the intake method for syringes?'], 'question_template': ['What is the intake method of syringe?'], 'sql': [\"select distinct prescriptions.route from prescriptions where prescriptions.drug = 'syringe'\"], 'seqsql': [\"select distinct prescriptions.route from prescriptions where prescriptions.drug = 'syringe'\"], 'department': \"['nursing']\", 'importance': 'medium', 'compositional_split': 'train', 'random_split': 'train'}, {'id': '2ba35e0108612c3bd7334173', 'seed_question': 'tell me the intake method for belatacept study drug (*ind*)s?', 'value': {'drug_name': 'belatacept study drug (*ind*)'}, 'question': ['tell me the intake method for belatacept study drug (*ind*)s?'], 'question_template': ['What is the intake method of belatacept study drug (*ind*)?'], 'sql': [\"select distinct prescriptions.route from prescriptions where prescriptions.drug = 'belatacept study drug (*ind*)'\"], 'seqsql': [\"select distinct prescriptions.route from prescriptions where prescriptions.drug = 'belatacept study drug (*ind*)'\"], 'department': \"['nursing']\", 'importance': 'medium', 'compositional_split': 'train', 'random_split': 'train'}, {'id': 'ed5b5ca99a7e934fed64cd05', 'seed_question': 'what are the ways to consume sterile water?', 'value': {'drug_name': 'sterile water'}, 'question': ['what are the ways to consume sterile water?'], 'question_template': ['What is the intake method of sterile water?'], 'sql': [\"select distinct prescriptions.route from prescriptions where prescriptions.drug = 'sterile water'\"], 'seqsql': [\"select distinct prescriptions.route from prescriptions where prescriptions.drug = 'sterile water'\"], 'department': \"['nursing']\", 'importance': 'medium', 'compositional_split': 'train', 'random_split': 'train'}, {'id': '0b880025a9259cad6582b5b5', 'seed_question': 'what is the ingesting method of nicotine lozenge?', 'value': {'drug_name': 'nicotine lozenge'}, 'question': ['what is the ingesting method of nicotine lozenge?'], 'question_template': ['What is the intake method of nicotine lozenge?'], 'sql': [\"select distinct prescriptions.route from prescriptions where prescriptions.drug = 'nicotine lozenge'\"], 'seqsql': [\"select distinct prescriptions.route from prescriptions where prescriptions.drug = 'nicotine lozenge'\"], 'department': \"['nursing']\", 'importance': 'medium', 'compositional_split': 'train', 'random_split': 'train'}, {'id': 'b49e08aa826bcc47a15b1003', 'seed_question': 'what is the ingesting method of insulin human regular?', 'value': {'drug_name': 'insulin human regular'}, 'question': ['what is the ingesting method of insulin human regular?'], 'question_template': ['What is the intake method of insulin human regular?'], 'sql': [\"select distinct prescriptions.route from prescriptions where prescriptions.drug = 'insulin human regular'\"], 'seqsql': [\"select distinct prescriptions.route from prescriptions where prescriptions.drug = 'insulin human regular'\"], 'department': \"['nursing']\", 'importance': 'medium', 'compositional_split': 'train', 'random_split': 'train'}, {'id': '30b6775099568b52b5df7767', 'seed_question': 'tell me the intake method for sirolimuss?', 'value': {'drug_name': 'sirolimus'}, 'question': ['tell me the intake method for sirolimuss?'], 'question_template': ['What is the intake method of sirolimus?'], 'sql': [\"select distinct prescriptions.route from prescriptions where prescriptions.drug = 'sirolimus'\"], 'seqsql': [\"select distinct prescriptions.route from prescriptions where prescriptions.drug = 'sirolimus'\"], 'department': \"['nursing']\", 'importance': 'medium', 'compositional_split': 'train', 'random_split': 'train'}, {'id': '7808e778fb6533aa6f907743', 'seed_question': 'tell me the method of intake of metformin xr (glucophage xr)?', 'value': {'drug_name': 'metformin xr (glucophage xr)'}, 'question': ['tell me the method of intake of metformin xr (glucophage xr)?'], 'question_template': ['What is the intake method of metformin xr (glucophage xr)?'], 'sql': [\"select distinct prescriptions.route from prescriptions where prescriptions.drug = 'metformin xr (glucophage xr)'\"], 'seqsql': [\"select distinct prescriptions.route from prescriptions where prescriptions.drug = 'metformin xr (glucophage xr)'\"], 'department': \"['nursing']\", 'importance': 'medium', 'compositional_split': 'train', 'random_split': 'train'}, {'id': '39cdf4c7d54907d068193cfe', 'seed_question': 'what is the ingesting method of testosterone 5mg patch?', 'value': {'drug_name': 'testosterone 5mg patch'}, 'question': ['what is the ingesting method of testosterone 5mg patch?'], 'question_template': ['What is the intake method of testosterone 5mg patch?'], 'sql': [\"select distinct prescriptions.route from prescriptions where prescriptions.drug = 'testosterone 5mg patch'\"], 'seqsql': [\"select distinct prescriptions.route from prescriptions where prescriptions.drug = 'testosterone 5mg patch'\"], 'department': \"['nursing']\", 'importance': 'medium', 'compositional_split': 'train', 'random_split': 'train'}, {'id': 'e281441e02d5ba97d196aaca', 'seed_question': 'what are the methods of consumption of insulin human nph?', 'value': {'drug_name': 'insulin human nph'}, 'question': ['what are the methods of consumption of insulin human nph?'], 'question_template': ['What is the intake method of insulin human nph?'], 'sql': [\"select distinct prescriptions.route from prescriptions where prescriptions.drug = 'insulin human nph'\"], 'seqsql': [\"select distinct prescriptions.route from prescriptions where prescriptions.drug = 'insulin human nph'\"], 'department': \"['nursing']\", 'importance': 'medium', 'compositional_split': 'train', 'random_split': 'train'}, {'id': '67903dd6d38b79de8c6c36ff', 'seed_question': 'tell me the intake method for readi-cat 2 (barium sulfate 2% suspension)s?', 'value': {'drug_name': 'readi-cat 2 (barium sulfate 2% suspension)'}, 'question': ['tell me the intake method for readi-cat 2 (barium sulfate 2% suspension)s?'], 'question_template': ['What is the intake method of readi-cat 2 (barium sulfate 2% suspension)?'], 'sql': [\"select distinct prescriptions.route from prescriptions where prescriptions.drug = 'readi-cat 2 (barium sulfate 2% suspension)'\"], 'seqsql': [\"select distinct prescriptions.route from prescriptions where prescriptions.drug = 'readi-cat 2 (barium sulfate 2% suspension)'\"], 'department': \"['nursing']\", 'importance': 'medium', 'compositional_split': 'train', 'random_split': 'train'}, {'id': '374c0a6afce04afac2773ae4', 'seed_question': 'what is the ingesting method of amitriptyline hcl?', 'value': {'drug_name': 'amitriptyline hcl'}, 'question': ['what is the ingesting method of amitriptyline hcl?'], 'question_template': ['What is the intake method of amitriptyline hcl?'], 'sql': [\"select distinct prescriptions.route from prescriptions where prescriptions.drug = 'amitriptyline hcl'\"], 'seqsql': [\"select distinct prescriptions.route from prescriptions where prescriptions.drug = 'amitriptyline hcl'\"], 'department': \"['nursing']\", 'importance': 'medium', 'compositional_split': 'train', 'random_split': 'train'}, {'id': '2f3e6337d470705f78c3728f', 'seed_question': 'what is the ingesting method of heparin flush crrt (5000 units/ml)?', 'value': {'drug_name': 'heparin flush crrt (5000 units/ml)'}, 'question': ['what is the ingesting method of heparin flush crrt (5000 units/ml)?'], 'question_template': ['What is the intake method of heparin flush crrt (5000 units/ml)?'], 'sql': [\"select distinct prescriptions.route from prescriptions where prescriptions.drug = 'heparin flush crrt (5000 units/ml)'\"], 'seqsql': [\"select distinct prescriptions.route from prescriptions where prescriptions.drug = 'heparin flush crrt (5000 units/ml)'\"], 'department': \"['nursing']\", 'importance': 'medium', 'compositional_split': 'train', 'random_split': 'train'}, {'id': 'c145ab8ddd60807eed5e638c', 'seed_question': 'what are the ways to consume guaifenesin?', 'value': {'drug_name': 'guaifenesin'}, 'question': ['what are the ways to consume guaifenesin?'], 'question_template': ['What is the intake method of guaifenesin?'], 'sql': [\"select distinct prescriptions.route from prescriptions where prescriptions.drug = 'guaifenesin'\"], 'seqsql': [\"select distinct prescriptions.route from prescriptions where prescriptions.drug = 'guaifenesin'\"], 'department': \"['nursing']\", 'importance': 'medium', 'compositional_split': 'train', 'random_split': 'train'}, {'id': '30b276d156451240658f01af', 'seed_question': 'tell me the method of intake of dibucaine?', 'value': {'drug_name': 'dibucaine'}, 'question': ['tell me the method of intake of dibucaine?'], 'question_template': ['What is the intake method of dibucaine?'], 'sql': [\"select distinct prescriptions.route from prescriptions where prescriptions.drug = 'dibucaine'\"], 'seqsql': [\"select distinct prescriptions.route from prescriptions where prescriptions.drug = 'dibucaine'\"], 'department': \"['nursing']\", 'importance': 'medium', 'compositional_split': 'train', 'random_split': 'train'}, {'id': '4f5978785dd55e6d3138becc', 'seed_question': 'what is the intake method of the nifedipine cr?', 'value': {'drug_name': 'nifedipine cr'}, 'question': ['what is the intake method of the nifedipine cr?'], 'question_template': ['What is the intake method of nifedipine cr?'], 'sql': [\"select distinct prescriptions.route from prescriptions where prescriptions.drug = 'nifedipine cr'\"], 'seqsql': [\"select distinct prescriptions.route from prescriptions where prescriptions.drug = 'nifedipine cr'\"], 'department': \"['nursing']\", 'importance': 'medium', 'compositional_split': 'train', 'random_split': 'train'}, {'id': '719c9ffb41167fdb3f01ae96', 'seed_question': 'what is the ingesting method of miconazole nitrate vaginal?', 'value': {'drug_name': 'miconazole nitrate vaginal'}, 'question': ['what is the ingesting method of miconazole nitrate vaginal?'], 'question_template': ['What is the intake method of miconazole nitrate vaginal?'], 'sql': [\"select distinct prescriptions.route from prescriptions where prescriptions.drug = 'miconazole nitrate vaginal'\"], 'seqsql': [\"select distinct prescriptions.route from prescriptions where prescriptions.drug = 'miconazole nitrate vaginal'\"], 'department': \"['nursing']\", 'importance': 'medium', 'compositional_split': 'train', 'random_split': 'train'}, {'id': 'a50ea63b927af5d75ffc50cc', 'seed_question': 'what is the ingesting method of hydrochlorothiazide?', 'value': {'drug_name': 'hydrochlorothiazide'}, 'question': ['what is the ingesting method of hydrochlorothiazide?'], 'question_template': ['What is the intake method of hydrochlorothiazide?'], 'sql': [\"select distinct prescriptions.route from prescriptions where prescriptions.drug = 'hydrochlorothiazide'\"], 'seqsql': [\"select distinct prescriptions.route from prescriptions where prescriptions.drug = 'hydrochlorothiazide'\"], 'department': \"['nursing']\", 'importance': 'medium', 'compositional_split': 'train', 'random_split': 'train'}, {'id': '7410893b8c52c9fa3a3e469e', 'seed_question': 'what is the intake method of the methotrexate sodium p.f.?', 'value': {'drug_name': 'methotrexate sodium p.f.'}, 'question': ['what is the intake method of the methotrexate sodium p.f.?'], 'question_template': ['What is the intake method of methotrexate sodium p.f.?'], 'sql': [\"select distinct prescriptions.route from prescriptions where prescriptions.drug = 'methotrexate sodium p.f.'\"], 'seqsql': [\"select distinct prescriptions.route from prescriptions where prescriptions.drug = 'methotrexate sodium p.f.'\"], 'department': \"['nursing']\", 'importance': 'medium', 'compositional_split': 'train', 'random_split': 'train'}]\n",
      "id <class 'str'>\n",
      "seed_question <class 'str'>\n",
      "value <class 'dict'>\n",
      "question <class 'list'>\n",
      "question_template <class 'list'>\n",
      "sql <class 'list'>\n",
      "seqsql <class 'list'>\n",
      "department <class 'str'>\n",
      "importance <class 'str'>\n",
      "compositional_split <class 'str'>\n",
      "random_split <class 'str'>\n"
     ]
    }
   ],
   "source": [
    "with open('data/EHR-SeqSQL-data.json','r') as file:\n",
    "    data = json.load(file) \n",
    "print(data[0:20]) # first 20 data from entry for visualization \n",
    "for key,val in data[0].items():\n",
    "    print(key,type(val)) # key, and their data types\n"
   ]
  },
  {
   "cell_type": "code",
   "execution_count": 196,
   "id": "cd778142-d7e2-465f-9fdf-26ee129361b0",
   "metadata": {},
   "outputs": [],
   "source": [
    "llm = lamini.Lamini(model_name=\"meta-llama/Meta-Llama-3-8B-Instruct\")"
   ]
  },
  {
   "cell_type": "code",
   "execution_count": 198,
   "id": "4fe163ed-d239-46b2-ac9d-3fffc02fcab0",
   "metadata": {},
   "outputs": [],
   "source": [
    "def get_schema():\n",
    "    return \"\"\"\\\n",
    "0|id|TEXT\n",
    "1|seed_question|TEXT\n",
    "2|value|TEXT\n",
    "3|question|TEXT\n",
    "4|question_template|TEXT\n",
    "5|sql|TEXT\n",
    "6|seqsql|TEXT\n",
    "7|department|TEXT\n",
    "8|importance|TEXT\n",
    "9|compositional_split|TEXT\n",
    "10|random_split|TEXT\n",
    "\"\"\"\n",
    "# define our schema from the data provided"
   ]
  },
  {
   "cell_type": "code",
   "execution_count": 200,
   "id": "49ce1152-6648-46ad-950b-062d50ec5489",
   "metadata": {},
   "outputs": [],
   "source": [
    "# Meta Llama 3 Instruct uses a prompt template, with special tags used to indicate the user query and system prompt. \n",
    "# You can find the documentation on this [model card](https://llama.meta.com/docs/model-cards-and-prompt-formats/meta-llama-3/#meta-llama-3-instruct).\n",
    "def make_llama_3_prompt(user, system=\"\"):\n",
    "    system_prompt = \"\"\n",
    "    if system != \"\":\n",
    "        system_prompt = (\n",
    "            f\"<|start_header_id|>system<|end_header_id|>\\n\\n{system}<|eot_id|>\"\n",
    "        )\n",
    "    return f\"<|begin_of_text|>{system_prompt}<|start_header_id|>user<|end_header_id|>\\n\\n{user}<|eot_id|><|start_header_id|>assistant<|end_header_id|>\\n\\n\""
   ]
  },
  {
   "cell_type": "code",
   "execution_count": 202,
   "id": "4614ea64-10f7-4c37-adfd-a771b74a22ab",
   "metadata": {},
   "outputs": [],
   "source": [
    "user1 = \"\"\"Is there a specific way to take insulin human regular?\"\"\"\n",
    "user2 = \"\"\"Can you explain the way to consume sterile water?\"\"\"\n"
   ]
  },
  {
   "cell_type": "code",
   "execution_count": 204,
   "id": "fa350a07-7756-4448-abf3-676ed07ff31a",
   "metadata": {},
   "outputs": [],
   "source": [
    "system = f\"\"\"You are a clinical data analyst with extensive experience in generating SQL queries for drug prescription data. Consider the prescriptions table with the following schema:\n",
    "{get_schema()}\n",
    "Write a sqlite query to answer the following question. Follow instructions exactly\"\"\""
   ]
  },
  {
   "cell_type": "code",
   "execution_count": 206,
   "id": "0139cf1a-8e20-494d-90eb-21aa66b0da92",
   "metadata": {},
   "outputs": [
    {
     "name": "stdout",
     "output_type": "stream",
     "text": [
      "You are a clinical data analyst with extensive experience in generating SQL queries for drug prescription data. Consider the prescriptions table with the following schema:\n",
      "0|id|TEXT\n",
      "1|seed_question|TEXT\n",
      "2|value|TEXT\n",
      "3|question|TEXT\n",
      "4|question_template|TEXT\n",
      "5|sql|TEXT\n",
      "6|seqsql|TEXT\n",
      "7|department|TEXT\n",
      "8|importance|TEXT\n",
      "9|compositional_split|TEXT\n",
      "10|random_split|TEXT\n",
      "\n",
      "Write a sqlite query to answer the following question. Follow instructions exactly\n"
     ]
    }
   ],
   "source": [
    "print(system)"
   ]
  },
  {
   "cell_type": "code",
   "execution_count": 208,
   "id": "0dcea28f-d660-4acf-acb2-415daba0560b",
   "metadata": {},
   "outputs": [],
   "source": [
    "prompt = make_llama_3_prompt(user1, system)"
   ]
  },
  {
   "cell_type": "code",
   "execution_count": 210,
   "id": "129ca982-1958-4273-b9e2-d7ac3ce3f26c",
   "metadata": {},
   "outputs": [
    {
     "name": "stdout",
     "output_type": "stream",
     "text": [
      "To answer this question, we can use the following SQL query:\n",
      "\n",
      "```sql\n",
      "SELECT *\n",
      "FROM prescriptions\n",
      "WHERE question = 'Is there a specific way to take insulin human regular?';\n",
      "```\n",
      "\n",
      "This query will return all the rows from the `prescriptions` table where the `question` column matches the given question.\n"
     ]
    }
   ],
   "source": [
    "print(llm.generate(prompt, max_new_tokens=200))"
   ]
  },
  {
   "cell_type": "code",
   "execution_count": 211,
   "id": "02c13817-7f44-4427-87c5-a3344a9d6e3c",
   "metadata": {},
   "outputs": [
    {
     "name": "stdout",
     "output_type": "stream",
     "text": [
      "To answer this question, we can use the following SQL query:\n",
      "\n",
      "```sql\n",
      "SELECT *\n",
      "FROM prescriptions\n",
      "WHERE question = 'Is there a specific way to take insulin human regular?';\n",
      "```\n",
      "\n",
      "This query will return all the rows from the `prescriptions` table where the `question` column matches the given question.\n"
     ]
    }
   ],
   "source": []
  },
  {
   "cell_type": "code",
   "execution_count": 214,
   "id": "b4137c1e-fc2a-4464-9973-27688716f065",
   "metadata": {},
   "outputs": [],
   "source": [
    "prompt = make_llama_3_prompt(user2, system)"
   ]
  },
  {
   "cell_type": "code",
   "execution_count": 216,
   "id": "b8e37538-6b8c-4e0f-adcd-aa7c9efc160c",
   "metadata": {},
   "outputs": [
    {
     "name": "stdout",
     "output_type": "stream",
     "text": [
      "Based on the provided schema, I'll assume that the question \"Can you explain the way to consume sterile water?\" is stored in the \"seed_question\" column. To answer this question, we need to find the corresponding SQL query in the \"sql\" column that is associated with this seed question.\n",
      "\n",
      "Here's the SQLite query to achieve this:\n",
      "```sql\n",
      "SELECT sql\n",
      "FROM prescriptions\n",
      "WHERE seed_question = 'Can you explain the way to consume sterile water?';\n",
      "```\n",
      "This query will return the SQL query that is associated with the given seed question.\n"
     ]
    }
   ],
   "source": [
    "print(llm.generate(prompt, max_new_tokens=200))"
   ]
  },
  {
   "cell_type": "code",
   "execution_count": null,
   "id": "0aac5e9f-eb15-4b2e-a4ea-7a04a8fca226",
   "metadata": {},
   "outputs": [],
   "source": []
  }
 ],
 "metadata": {
  "kernelspec": {
   "display_name": "Python 3 (ipykernel)",
   "language": "python",
   "name": "python3"
  },
  "language_info": {
   "codemirror_mode": {
    "name": "ipython",
    "version": 3
   },
   "file_extension": ".py",
   "mimetype": "text/x-python",
   "name": "python",
   "nbconvert_exporter": "python",
   "pygments_lexer": "ipython3",
   "version": "3.12.7"
  }
 },
 "nbformat": 4,
 "nbformat_minor": 5
}
